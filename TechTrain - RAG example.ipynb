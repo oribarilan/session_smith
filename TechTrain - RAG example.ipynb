{
 "cells": [
  {
   "cell_type": "code",
   "execution_count": null,
   "id": "ea516a90-74d4-4ae3-a075-22bdfee4872a",
   "metadata": {},
   "outputs": [],
   "source": [
    "# Those packages are required to run the following code\n",
    "\n",
    "!pip install langchain==0.1.0\n",
    "!pip install langchain-core==0.1.10\n",
    "!pip install langchain_openai==0.0.2\n",
    "!pip install langchain-community==0.0.12\n",
    "!pip install tiktoken==0.5.2\n",
    "!pip install wikipedia==1.4.0\n",
    "!pip install faiss-cpu==1.7.4"
   ]
  },
  {
   "cell_type": "code",
   "execution_count": null,
   "id": "e519377f-a4a9-452c-a85c-a801b73e2ec2",
   "metadata": {},
   "outputs": [],
   "source": [
    "import os\n",
    "import langchain\n",
    "from langchain_openai import AzureChatOpenAI\n",
    "from langchain_openai import AzureOpenAIEmbeddings\n",
    "from langchain_community.document_loaders import WikipediaLoader\n",
    "from langchain.text_splitter import RecursiveCharacterTextSplitter\n",
    "from langchain_community.vectorstores import FAISS\n",
    "from langchain_core.prompts import ChatPromptTemplate\n",
    "from langchain.prompts import HumanMessagePromptTemplate\n",
    "from langchain.vectorstores.utils import DistanceStrategy"
   ]
  },
  {
   "cell_type": "markdown",
   "id": "c24db200-4ebc-493e-ac9e-32d5f4159750",
   "metadata": {},
   "source": [
    "# Fill in those variables before running the notebook"
   ]
  },
  {
   "cell_type": "code",
   "execution_count": null,
   "id": "a2068afa-82bd-4d40-8448-e3218e148317",
   "metadata": {},
   "outputs": [],
   "source": [
    "endpoint_name = \"<ENDPOINT_NAME>\"\n",
    "key = \"<YOUR_KEY>\" \n",
    "embeddings_deployment_name = \"<YOUR_EMBEDDINGS_DEPLOYMENT_NAME>\"\n",
    "\n",
    "api_version=\"2023-07-01-preview\""
   ]
  },
  {
   "cell_type": "code",
   "execution_count": null,
   "id": "aedb620f-eeae-4b8f-b4f4-82c6a93ad855",
   "metadata": {},
   "outputs": [],
   "source": [
    "os.environ[\"AZURE_OPENAI_API_KEY\"] = key\n",
    "os.environ[\"AZURE_OPENAI_ENDPOINT\"] = f\"https://{endpoint_name}.openai.azure.com/\""
   ]
  },
  {
   "cell_type": "markdown",
   "id": "fc214754-4911-423a-b0e4-522444a6ea17",
   "metadata": {},
   "source": [
    "# Run RAG on Wikipedia"
   ]
  },
  {
   "cell_type": "code",
   "execution_count": null,
   "id": "e1e060b3-fa89-40b0-93ff-a3e4b7e3d641",
   "metadata": {},
   "outputs": [],
   "source": [
    "llm = AzureChatOpenAI(\n",
    "    api_version = \"2023-07-01-preview\", \n",
    "    azure_endpoint=f\"https://{endpoint_name}.openai.azure.com/openai/deployments/gpt-35-turbo/chat/completions?api-version={api_version}\")"
   ]
  },
  {
   "cell_type": "code",
   "execution_count": null,
   "id": "5183fdf6-1a96-410b-9bb4-1ab06f18b098",
   "metadata": {},
   "outputs": [],
   "source": [
    "# check that the model is well-defined\n",
    "llm.invoke('how are you?')"
   ]
  },
  {
   "cell_type": "code",
   "execution_count": null,
   "id": "886ced64-35da-4362-bedd-154332c2ba92",
   "metadata": {},
   "outputs": [],
   "source": [
    "embeddings = AzureOpenAIEmbeddings(\n",
    "    azure_deployment=embeddings_deployment_name,\n",
    "    openai_api_version=api_version,\n",
    ")"
   ]
  },
  {
   "cell_type": "code",
   "execution_count": null,
   "id": "1d3f1add-1a2d-438a-895a-b8d3f69c232a",
   "metadata": {},
   "outputs": [],
   "source": [
    "wikipedia_docs = WikipediaLoader(query= 'Eurovision Song Contest 2022' , load_max_docs=1).load() # add your own Wikiepdia value\n",
    "text_splitter = RecursiveCharacterTextSplitter(chunk_size=800, chunk_overlap=20, length_function=len)\n",
    "splited_docs = text_splitter.split_documents(wikipedia_docs)"
   ]
  },
  {
   "cell_type": "code",
   "execution_count": null,
   "id": "43e0caf8-e788-4b46-913a-179c9fcb4696",
   "metadata": {},
   "outputs": [],
   "source": [
    "db = FAISS.from_documents(documents=splited_docs, embedding=embeddings, distance_strategy=DistanceStrategy.COSINE)"
   ]
  },
  {
   "cell_type": "code",
   "execution_count": null,
   "id": "05d363d4-10d7-44a9-ad8b-f36c45ebdab7",
   "metadata": {},
   "outputs": [],
   "source": [
    "query = 'Who won?'\n",
    "query_embedding = embeddings.embed_query(query)\n",
    "print(query_embedding[:10])"
   ]
  },
  {
   "cell_type": "code",
   "execution_count": null,
   "id": "b7c2a3c9-740f-4a64-b54b-752d7d312910",
   "metadata": {},
   "outputs": [],
   "source": [
    "k=3\n",
    "context = \"\\n\\n\".join([db.similarity_search(query=query, k=k, distance_strategy=DistanceStrategy.COSINE)[i].page_content for i in range(k)])\n",
    "print(context)"
   ]
  },
  {
   "cell_type": "code",
   "execution_count": null,
   "id": "7bd3e8e7-072e-4a29-a2c8-b5a1b911df1d",
   "metadata": {},
   "outputs": [],
   "source": [
    "RAG_prompt_template = (\"Answer the questino below based on the provided context:\\n\\n\" \n",
    "                       \"Question:\\n{question}\\n\\n\"\n",
    "                       \"Context:\\n{context}\\n\\n\")"
   ]
  },
  {
   "cell_type": "code",
   "execution_count": null,
   "id": "791331d7-cd0c-4063-bfec-0466a7991559",
   "metadata": {},
   "outputs": [],
   "source": [
    "chat_template = ChatPromptTemplate.from_messages(\n",
    "    [\n",
    "        HumanMessagePromptTemplate.from_template(RAG_prompt_template),\n",
    "    ]\n",
    ")\n",
    "\n",
    "# Those lines are meant to print the final prompt string\n",
    "messages = chat_template.format_messages(question=query,\n",
    "                                         context=context)\n",
    "print(messages[0].content)"
   ]
  },
  {
   "cell_type": "code",
   "execution_count": null,
   "id": "cedeb277-c569-404e-be47-7a319c2d0c22",
   "metadata": {},
   "outputs": [],
   "source": [
    "chain = chat_template | llm \n",
    "chain.invoke({\"question\": query, \"context\": context})"
   ]
  },
  {
   "cell_type": "code",
   "execution_count": null,
   "id": "8412225e-6ec9-4cf0-a79b-306d9e7c02ac",
   "metadata": {},
   "outputs": [],
   "source": []
  }
 ],
 "metadata": {
  "kernelspec": {
   "display_name": "Python 3 (ipykernel)",
   "language": "python",
   "name": "python3"
  },
  "language_info": {
   "codemirror_mode": {
    "name": "ipython",
    "version": 3
   },
   "file_extension": ".py",
   "mimetype": "text/x-python",
   "name": "python",
   "nbconvert_exporter": "python",
   "pygments_lexer": "ipython3",
   "version": "3.9.13"
  }
 },
 "nbformat": 4,
 "nbformat_minor": 5
}
